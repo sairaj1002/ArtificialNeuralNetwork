{
 "cells": [
  {
   "cell_type": "markdown",
   "id": "3f8fd267-1de0-41c2-aab6-6ce7062672ad",
   "metadata": {},
   "source": [
    "# 7. Write a python program to show Back Propagation Network for XOR function with Binary Input and Output|"
   ]
  },
  {
   "cell_type": "code",
   "execution_count": 6,
   "id": "8ce75ff0-c3b9-4bee-9a03-2253d059eb64",
   "metadata": {},
   "outputs": [
    {
     "name": "stdout",
     "output_type": "stream",
     "text": [
      "+---+---+-----+\n",
      "| A | B | XOR |\n",
      "+---+---+-----+\n",
      "| 0 | 0 | 0.0 |\n",
      "| 1 | 0 | 1.0 |\n",
      "| 0 | 1 | 1.0 |\n",
      "| 1 | 1 | 0.0 |\n",
      "+---+---+-----+\n"
     ]
    }
   ],
   "source": [
    "import numpy as np\n",
    "\n",
    "def sigmoid(x):\n",
    "    return 1 / (1 + np.exp(-x))\n",
    "\n",
    "\n",
    "def xor_network(x1, x2, epochs=10000, learning_rate=0.1):\n",
    "    # Network with 2 hidden neurons and 1 output neuron, sigmoid activation\n",
    "    W1 = np.random.randn(2, 2)  # Weights for hidden layer\n",
    "    b1 = np.random.randn(2, 1)  # Biases for hidden layer\n",
    "    W2 = np.random.randn(1, 2)  # Weights for output layer\n",
    "    b2 = np.random.randn(1, 1)  # Bias for output layer\n",
    "\n",
    "    # XOR truth table for training data\n",
    "    X = np.array([[0, 0], [0, 1], [1, 0], [1, 1]])\n",
    "    y = np.array([[0], [1], [1], [0]])\n",
    "\n",
    "    # Training loop for multiple epochs\n",
    "    for epoch in range(epochs):\n",
    "        for i in range(X.shape[0]):\n",
    "            # Forward pass\n",
    "            z1 = np.dot(W1, X[i].reshape(2, 1)) + b1\n",
    "            a1 = sigmoid(z1)\n",
    "            z2 = np.dot(W2, a1) + b2\n",
    "            a2 = sigmoid(z2)\n",
    "\n",
    "            # Backpropagation\n",
    "            dz2 = a2 - y[i]\n",
    "            dW2 = np.dot(dz2, a1.T)\n",
    "            db2 = dz2\n",
    "            dz1 = np.dot(W2.T, dz2) * (a1 * (1 - a1))\n",
    "            dW1 = np.dot(dz1, X[i].reshape(1, 2))\n",
    "            db1 = dz1\n",
    "\n",
    "            # Parameter updates\n",
    "            W1 -= learning_rate * dW1\n",
    "            b1 -= learning_rate * db1\n",
    "            W2 -= learning_rate * dW2\n",
    "            b2 -= learning_rate * db2\n",
    "\n",
    "    # Prediction for the input\n",
    "    z1 = np.dot(W1, np.array([[x1], [x2]])) + b1\n",
    "    a1 = sigmoid(z1)\n",
    "    z2 = np.dot(W2, a1) + b2\n",
    "    a2 = sigmoid(z2)\n",
    "\n",
    "    return np.round(a2[0][0])\n",
    "\n",
    "from prettytable import PrettyTable\n",
    "table = [['A', 'B', 'XOR'], [0, 0, xor_network(0, 0)], [1, 0, xor_network(1, 0)], [0, 1, xor_network(0, 1)], [1, 1, xor_network(1, 1)]]\n",
    "tab = PrettyTable(table[0])\n",
    "tab.add_rows(table[1:])\n",
    "print(tab)"
   ]
  },
  {
   "cell_type": "code",
   "execution_count": 1,
   "id": "74e0da7b-c261-4275-8488-29bf3401d000",
   "metadata": {},
   "outputs": [
    {
     "name": "stdout",
     "output_type": "stream",
     "text": [
      "[[0]\n",
      " [1]\n",
      " [1]\n",
      " [0]]\n"
     ]
    }
   ],
   "source": [
    "import numpy as np\n",
    "\n",
    "# Define the sigmoid activation function and its derivative\n",
    "def sigmoid(x):\n",
    "    return 1 / (1 + np.exp(-x))\n",
    "\n",
    "def sigmoid_derivative(x):\n",
    "    return x * (1 - x)\n",
    "\n",
    "\n",
    "# Define the input and output data\n",
    "X = np.array([[0, 0], [0, 1], [1, 0], [1, 1]])\n",
    "y = np.array([[0], [1], [1], [0]])\n",
    "\n",
    "# Define the neural network architecture and initialize the weights randomly\n",
    "input_size = 2\n",
    "hidden_size = 3\n",
    "output_size = 1\n",
    "\n",
    "np.random.seed(1)\n",
    "weights1 = np.random.randn(input_size, hidden_size)\n",
    "weights2 = np.random.randn(hidden_size, output_size)\n",
    "\n",
    "# Define the training parameters\n",
    "learning_rate = 0.1\n",
    "num_iterations = 450000\n",
    "\n",
    "\n",
    "# Train the neural network using backpropagation\n",
    "for i in range(num_iterations):\n",
    "    # Forward propagation\n",
    "    hidden_layer_activation = np.dot(X, weights1)\n",
    "    hidden_layer_output = sigmoid(hidden_layer_activation)\n",
    "    output_layer_activation = np.dot(hidden_layer_output, weights2)\n",
    "    predicted_output = sigmoid(output_layer_activation)\n",
    "    \n",
    "    \n",
    "    # Backward propagation\n",
    "    error = y - predicted_output\n",
    "    d_predicted_output = error * sigmoid_derivative(predicted_output)\n",
    "    \n",
    "    error_hidden_layer = d_predicted_output.dot(weights2.T)\n",
    "    d_hidden_layer = error_hidden_layer * sigmoid_derivative(hidden_layer_output)\n",
    "    \n",
    "    # Update the weights\n",
    "    weights2 += hidden_layer_output.T.dot(d_predicted_output) * learning_rate\n",
    "    weights1 += X.T.dot(d_hidden_layer) * learning_rate\n",
    "\n",
    "# Test the neural network\n",
    "hidden_layer_activation = np.dot(X, weights1)\n",
    "hidden_layer_output = sigmoid(hidden_layer_activation)\n",
    "output_layer_activation = np.dot(hidden_layer_output, weights2)\n",
    "predicted_output = sigmoid(output_layer_activation)\n",
    "\n",
    "# Modify the predicted output based on a threshold value\n",
    "threshold = 0.20 #the threshold should be between 0.55 - 0.8 to get the output\n",
    "predicted_output = np.where(predicted_output > threshold, 1, 0)\n",
    "\n",
    "print(predicted_output)\n"
   ]
  },
  {
   "cell_type": "code",
   "execution_count": null,
   "id": "678bab63-e480-47d1-b882-ba5ab7929bc9",
   "metadata": {},
   "outputs": [],
   "source": []
  }
 ],
 "metadata": {
  "kernelspec": {
   "display_name": "Python 3 (ipykernel)",
   "language": "python",
   "name": "python3"
  },
  "language_info": {
   "codemirror_mode": {
    "name": "ipython",
    "version": 3
   },
   "file_extension": ".py",
   "mimetype": "text/x-python",
   "name": "python",
   "nbconvert_exporter": "python",
   "pygments_lexer": "ipython3",
   "version": "3.11.7"
  }
 },
 "nbformat": 4,
 "nbformat_minor": 5
}
