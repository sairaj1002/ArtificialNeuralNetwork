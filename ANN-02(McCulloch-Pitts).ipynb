{
 "cells": [
  {
   "cell_type": "markdown",
   "id": "2e962c59-20ff-4e6c-98da-792a0a761fb8",
   "metadata": {},
   "source": [
    "# 2. Generate ANDNOT function using McCulloch-Pitts neural net by a python program.\n"
   ]
  },
  {
   "cell_type": "code",
   "execution_count": null,
   "id": "6ac3c917-613b-45ea-a600-6d9aea7cb061",
   "metadata": {},
   "outputs": [
    {
     "name": "stdout",
     "output_type": "stream",
     "text": [
      "A | B | Output\n",
      "--------------\n",
      "0 | 0 | 0\n",
      "1 | 0 | 1\n",
      "0 | 1 | 0\n",
      "1 | 1 | 0\n"
     ]
    }
   ],
   "source": [
    "import numpy as np\n",
    "\n",
    "def mp_neuron(inputs, weights, threshold):\n",
    "    weighted_sum = np.dot(inputs, weights)\n",
    "    output = 1 if weighted_sum >= threshold else 0\n",
    "    return output\n",
    "\n",
    "def and_not(x1, x2):\n",
    "    weights = [1, -1] \n",
    "    threshold = 1   \n",
    "    inputs = np.array([x1, x2])\n",
    "    output = mp_neuron(inputs, weights, threshold)\n",
    "    return output\n",
    "\n",
    "# Print the results in the specified format\n",
    "print(\"A | B | Output\")\n",
    "print(\"--------------\")\n",
    "for x1, x2 in [(0, 0), (1, 0), (0, 1), (1, 1)]:\n",
    "    result = and_not(x1, x2)\n",
    "    print(f\"{x1} | {x2} | {result}\")\n"
   ]
  },
  {
   "cell_type": "code",
   "execution_count": null,
   "id": "57965182-1289-41ec-bd4b-cfff6efa59bc",
   "metadata": {},
   "outputs": [],
   "source": []
  }
 ],
 "metadata": {
  "kernelspec": {
   "display_name": "Python 3 (ipykernel)",
   "language": "python",
   "name": "python3"
  },
  "language_info": {
   "codemirror_mode": {
    "name": "ipython",
    "version": 3
   },
   "file_extension": ".py",
   "mimetype": "text/x-python",
   "name": "python",
   "nbconvert_exporter": "python",
   "pygments_lexer": "ipython3",
   "version": "3.12.3"
  }
 },
 "nbformat": 4,
 "nbformat_minor": 5
}
